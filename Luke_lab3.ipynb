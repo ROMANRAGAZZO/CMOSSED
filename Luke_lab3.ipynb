{
 "cells": [
  {
   "cell_type": "markdown",
   "id": "fbdd0d42",
   "metadata": {},
   "source": [
    "# Lab3 | Photometry of the Sky\n",
    "\n",
    "This lab explores how to measure the brightness of objects and how to efficiently plan observatons. It is an (extremely friendly) competition to see how many stars your group can measure photometrically to a given precision within a given amount of time. The catalog `stars-at-10pc.csv` contains positions and archival magnitudes for 191 stars at a distance of about $\\sf 10 pc$ from Earth. For this **photometry sprint**, your mission is to observe as many of these stars as possible within 1 hour, achieving at least S/N=100 on each star. You will need to plan which stars you want to observe and in what order, plan what filter and exposure times to use, observe carefully and quickly, and keep careful logs. This is not easy; there is no perfect approach. \n",
    "\n",
    "*Please complete all sections of this lab together as a group. This `jupyter` notebook includes placeholders for responses in Code or Markdown cells, but feel free to add many more cells as needed. Collaborate with your team to construct a shared lab submission, including all your responses in one document.*"
   ]
  },
  {
   "cell_type": "markdown",
   "id": "93f7c6cd",
   "metadata": {},
   "source": [
    "## Learning Goals\n",
    "\n",
    "After completing this lab, students should be able to:\n",
    "- use biases, darks, and flatfields to calibrate an image\n",
    "- measure the brightness of a star \n",
    "- estimate the S/N of a photometric measurement\n",
    "- plan an efficient telescope observing run\n",
    "- organize and work with large datasets"
   ]
  },
  {
   "cell_type": "markdown",
   "id": "3e644759",
   "metadata": {},
   "source": [
    "## Preparation:\n",
    "\n",
    "*Do these steps before the start of your observing session.*\n",
    "\n",
    "**1. Please read the instructions.** Make sure you know what to expect before the start of your observing session. With your lab group, talk through what to expect and what you need to do to prepare. This lab asks you to do ***substantial*** planning before arriving at the telescope; discussing your approach beforehand will make your observing run go more smoothly. \n",
    "\n",
    "\n",
    "\n"
   ]
  },
  {
   "cell_type": "markdown",
   "id": "2ed7cb25",
   "metadata": {},
   "source": [
    "**2. Schedule your observing time.**  Please schedule 2-3 hours on any one of the three SBO telescopes Artemis (20\"), Apollo (20\"), or Leto (24\"). Use the appropriate Google Calendar to book your time, including “ASTR3510 | Lab3 | {your group name}\" as the title, and the names of your group members in the description. Be sure to list one person who will serve as a point-of-contact for the reservation in case something comes up. (If observing on the 20\" scopes, also put which telescopes you want to reserve in the title. This lab requires on-sky observations, so you may need to reschedule your observing nights if interrupted by weather. Two groups can observe at the same time on the 20” deck, but nobody in ASTR3510 can observe while another class is scheduled on the 20\" deck."
   ]
  },
  {
   "cell_type": "markdown",
   "id": "bb276538",
   "metadata": {},
   "source": [
    "**3. Explore your target catalog.** The table `stars-at-10pc.csv` contains all stars from the [Gaia Catalog of Nearby Stars](https://ui.adsabs.harvard.edu/abs/2021A%26A...649A...6G/abstract) with distances between $\\sf 9 pc$ and $\\sf 11 pc$. The columns of this table include:\n",
    "- `silly_name` = a name drawn randomly from US baby names\n",
    "- `ra`, `dec` = the coordinates of the star in equinox \"J2000.0\" (= ICRS = they're measured relative to a spherical coordinate system precessed to the year 2000.0), with proper motions propagating positions relative to other stars into the \"epoch\" 2023.9\n",
    "- `G`, `BP`, `RP`, `g`, `r`, `i`, `z`, `J`, `H`, `Ks`, `W1`, `W2`, `W3`, `W4` = apparent magnitudes of the star in various filters; the Gaia `G` magnitude broadly covers much of the optical and very near infrared and is probably a good general reference\n",
    "- `distance` = distance to the star, in parsecs       \n",
    "- `GaiaEDR3`= the index of the star in the Gaia Early Data Release 3 Catalog\n",
    "- `names` = other names often used for this star, some of which may work to search for stars positions in TheSky\n",
    "\n",
    "Start interacting with this catalog, either by printing it on paper, importing it into Excel/Sheets/Numbers, or loading it into python with `astropy.io.ascii.read`. The folder `stars-at-10pc-finders` contains finder charts with each of these stars at its center. "
   ]
  },
  {
   "cell_type": "markdown",
   "id": "bae05de4",
   "metadata": {},
   "source": [
    "**4. Sketch your plan.** Discuss how you will optimize your 1-hour photometry sprint (details below). What preparation do you need? Which targets? What filter? What exposure times? How will you assess as you go? Briefly summarize some key ideas for how you'll be observing below:"
   ]
  },
  {
   "cell_type": "markdown",
   "id": "2b92e39e",
   "metadata": {},
   "source": [
    "## Our plan is one of high optimization and meticulous thought. We want to do as much as possible before the time starts so no time was wasted on anything other than slewing to targets and taking images. Firstly, we need to define where the stars on the sheet are going to be in the night sky. It's important to keep in mind that the RA and Dec attributes are recorded in J2000 so that needs to be accounted for. We plan to use python calculations to find the locations of the mystery stars, and then create a log of them. Our primary area of focus(haha) will be making sure the stars are within our observable area of the sky. From that, we need to sort those stars by magnitudes and how close they are to our Zenith. This is because we want to minimize the airmass we have to look through while making the S/N reading strong. Additionally, fainter stars require longer exposure time. We want to stay in the UV/IR filter the whole time. No exposure time can be longer than 1 minute. \n",
    "\n",
    "## A big part will also be delgation of tasks. We are planning on having each of us doing a different role so there isn't anywasted time. Roman will be executing his code and selecting stars based off angle and magnitude. Ryan will then read me the correct J200 Ra and Dec so I can slew the telescope. During this section, Roman is going to prep the observing log and Ryan will read out the rest of the data while the image captures."
   ]
  },
  {
   "cell_type": "markdown",
   "id": "54953608",
   "metadata": {},
   "source": [
    "## Observations:\n",
    "\n",
    "*Make sure to gather all the data you need during your observing session. Answer the discussion questions as you go; they are designed to help ensure you get useful data and understand what's going on. A checklist at the bottom of this section helps make sure you have all the data you need.*\n"
   ]
  },
  {
   "cell_type": "markdown",
   "id": "e2caa506",
   "metadata": {},
   "source": [
    "**1. Prepare to collect data.** \n",
    "- Follow the Telescope Opening Procedure to get ready to take imaging observations, including both setting the autosave to your team's directory in `SBO-Data-Share > Classes > Fall-2024 > ASTR3510` and focusing the telescope.   \n",
    "- Start an observing log, on paper or digitally (templates on Canvas). The metadata that will be helpful to log for this lab include the weather, the image number, the time, the object, its Gaia `G` magnitude, the exposure time, the binning, and possibly comments to help plan future exposures. For this lab, you will be submitting your logs, so either take them electronically or at least try to make them legible!"
   ]
  },
  {
   "cell_type": "markdown",
   "id": "f12d8d08-bd1b-4440-86c7-623f3744275a",
   "metadata": {},
   "source": [
    "## Our observing log is a excel spreadsheet. We aim to record weather as it changes and additionally make comments regarding each star if it is maybe too faint or not centered perfectly in the image making it uncertain which is the target star. "
   ]
  },
  {
   "cell_type": "markdown",
   "id": "0cc63676",
   "metadata": {},
   "source": [
    "\n",
    "**2. Test and prepare.** \n",
    "\n",
    "- If you want, spend as much time as you want at the telescope *preparing* to start your photometry sprint. Gather any test exposures that might be useful and answer any questions you have before your start your timed observing. Make note of any useful information you learned below:\n"
   ]
  },
  {
   "cell_type": "markdown",
   "id": "3565d640-dae2-4153-9ad8-d1e403055014",
   "metadata": {},
   "source": [
    "## We spent from 4:38 to 6:24 (UTC) taking test exposures and seeing about possible expsure times. \n",
    "\n",
    "## We took images of our brights to faintests stars(magnitudes 1 to 12) to make sure we could expose for long enough times to get a S/N ratio of 100. We decided to bin the stars off magnitudes from 1-5, 6-10, and 10+ in reference for us to have a standardized exposure time. 1-5 is 1 seconds, 6-10 is 10 seconds and anythign greater than that is 20 seconds. We learned from our test images that the S/N is usually too low within a timely exposure for any stars fainter than 12 magnitudes."
   ]
  },
  {
   "cell_type": "markdown",
   "id": "a8850e87",
   "metadata": {},
   "source": [
    "\n",
    "**3. Do your photometry sprint** = observe as many stars to S/N>100 observations as possible. \n",
    "Here are the rules:\n",
    "- Point the telescope at zenith. \n",
    "- Start the clock, make note of the time, and start observing. \n",
    "- Observe as many stars from the `stars-at-10pc.csv` table as you possibly can. Expose long enough on each target star to reach S/N=100 in aperture photometry, but short enough to avoid saturation. Use the same filter for all observations. *Do not observe with any filter not listed in the table contained in Analysis Q4.)* All observations should be in 4x4 binning. If needed, you may combine multiple exposures together to reach the S/N.\n",
    "- Keep a careful log, including at least the start times and exposure times of all science exposures. \n",
    "- Stop observing stars after 60 minutes. \n",
    "- All stars observed to sufficient S/N during this 1-hour time window will count toward your total. \n",
    "- Your grade is not set by the number of stars you successfuly observe; if you try your best, explain your work, and conduct careful analyses, you can earn full credit.\n",
    "- **Have fun!** Prizes will be awarded not just for \"most stars observed to S/N>100\" but also for other categories such as (for example) \"faintest\", \"most crowded\", \"weirdest image\", \"best log\", \"worst weather luck\", or others. "
   ]
  },
  {
   "cell_type": "markdown",
   "id": "5c51e35d-4a90-45c9-bb3e-9bd0a443a2ca",
   "metadata": {},
   "source": [
    "## We observed as many stars as we could. We hit a little snag midway with our planned observations not accurately accounting for the limitations of the dome and mountains but through problem solving under pressure, we were able to adjust and develop a new method. We observed from 10:25 to 11:25 Mountain Time"
   ]
  },
  {
   "cell_type": "markdown",
   "id": "4314eab7",
   "metadata": {},
   "source": [
    "\n",
    "**4. Play.**\n",
    "- Take one more moment to do something cool with the telescope on sky. Anything.\n",
    "- Please describe what creative, delightful, or beautiful thing you did."
   ]
  },
  {
   "cell_type": "markdown",
   "id": "75a374ff",
   "metadata": {},
   "source": [
    "## We looked at Saturn through the eye piece on Artemis. It was bright and full of cool color"
   ]
  },
  {
   "cell_type": "markdown",
   "id": "ff347f5a",
   "metadata": {},
   "source": [
    "**5. Gather calibrations.**\n",
    "Gather calibration data, including the following:\n",
    "- 15 flat fields through the filter you used for science observations (flat field lights on, lamp brightness and exposure times adjusted as needed)\n",
    "    - ALL other lights off.\n",
    "    - Set image type to Flat\n",
    "    - Aim for 30-40K counts in the brightest area of the image.\n",
    "    - Use scripting feature of SkyX to automate taking multiple flat images.\n",
    "- 5 bias exposures (ALL lights off, telescope cover on, narrow-band filter like $\\sf H\\alpha$)\n",
    "- 3 dark exposures (ALL lights off, telescope cover on, narrow-band filter like $\\sf H\\alpha$, exposure time equal to your *longest* science exposure)"
   ]
  },
  {
   "cell_type": "markdown",
   "id": "3cf11170-f508-4c74-b914-20e77daa5d5f",
   "metadata": {},
   "source": [
    "## We happily gathered many calibration images (it was so cold so the dome being closed was awesome)"
   ]
  },
  {
   "cell_type": "markdown",
   "id": "01000599",
   "metadata": {},
   "source": [
    "\n",
    "**6. Finish observing.**\n",
    "- Make sure you have all the data you need in the Observations Checklist below.\n",
    "- Follow the Telescope Closing Procedures to shut down the telescope."
   ]
  },
  {
   "cell_type": "markdown",
   "id": "935c7404",
   "metadata": {},
   "source": [
    "\n",
    "## Observations Checklist:\n",
    "*Before leaving, make sure that you have all these images saved to the shared folder, so you can access them later. This is not necessarily a complete list of every exposure you might have taken, but it covers everything you need for Analysis.*\n",
    "\n",
    "|  ?   | **Description**                                                        | **Details** |\n",
    "|-----|------------------------------------------------------------------------|-------------|\n",
    "|     | stars at 10pc, observed to sufficient S/N              | 4x4 binning |\n",
    "|     | flat field calibrations  | 4x4 binning, same filter as science |\n",
    "|     | bias calibrations                     | 4x4 binning, lights off,  cover on |\n",
    "|     | dark calibrations                     | 4x4 binning, lights off,  cover on |"
   ]
  },
  {
   "cell_type": "markdown",
   "id": "ec783dfc",
   "metadata": {},
   "source": [
    "\n",
    "## Analysis:\n",
    "\n",
    "*Please complete the Analysis together ***as a group*** and collaborate to construct a shared lab submission presenting your results, embedded in this `jupyter` notebook. Write your responses so it will be readable as a standalone document that you can look back to a year or more from now and still find useful; use complete sentences and language that is easy to understand, show your work and include units on all calculations, clearly label the axes on all plots, include numerical colorbars on all images, and clearly comment code. You can have fun,\n",
    "explore other ideas, or be creative in your reports, provided you at least answer the questions below.*\n",
    "\n",
    "\n"
   ]
  },
  {
   "cell_type": "markdown",
   "id": "8833abd6",
   "metadata": {},
   "source": [
    "\n",
    "**1. Reflect.** \n",
    "- Briefly describe your experience observing. What telescope did you use? What was your strategy? What worked well, and what didn't? "
   ]
  },
  {
   "cell_type": "markdown",
   "id": "398e9370",
   "metadata": {},
   "source": [
    "\n",
    "**2. Define reference calibration images.**\n",
    "\n",
    "- Calculate a median-stacked bias exposure $\\sf E_{bias, median}$ [ADU] from your individual $\\sf E_{bias}$ exposures. Display the image $\\sf E_{bias, median}$  with an informative color scale and limits.\n"
   ]
  },
  {
   "cell_type": "markdown",
   "id": "9d47cadc",
   "metadata": {},
   "source": [
    "\n",
    "- Calculate a median-stacked dark exposure $\\sf E_{dark, median}$ [ADU] from your individual $\\sf E_{dark}$ exposures. Use it to calculate the rate at which dark current accumulates in each pixel $\\sf \\dot{N}_{dark}$ [$\\sf e^-/s$] as $$\\sf \\dot{N}_{dark} = g\\cdot (E_{dark, median} - E_{bias, median})/t_{dark}$$ where $\\sf g$ is the gain [$\\sf e^-/ADU$] and $\\sf t_{dark}$ is the dark exposure time [$\\sf s$]. Display this $\\sf \\dot{N}_{dark}$ image with an informative color scale and limits.\n"
   ]
  },
  {
   "cell_type": "markdown",
   "id": "6e834b08",
   "metadata": {},
   "source": [
    "\n",
    "- Calculate a median-stacked flat-field exposure $\\sf E_{flat, median}$ [ADU] from your individual $\\sf E_{flat}$ exposures. Use it to calculate a normalized flat-field image $\\sf I_{flat-field}$ [$\\sf unitless$] as $$\\sf I_{flat-field} =\\frac{E_{flat, median} - E_{bias, median}- \\frac{\\dot{N}_{dark}\\cdot t_{flat-field}}{g} }{median(E_{flat, median} - E_{bias, median}-\\frac{\\dot{N}_{dark}\\cdot t_{flat-field}}{g} )}$$ where $\\sf t_{flat-field}$ is the exposure time of your flat-field [s]. If you took data in multiple filters, you'll need to create a flat-field image for *each* filter. \\\n",
    "\\\n",
    "Display your $\\sf I_{flat-field}$ image(s) with an informative color scale and limits. Comment on what you see in your flat-field image(s) and any questions you might have. "
   ]
  },
  {
   "cell_type": "markdown",
   "id": "d52828ee",
   "metadata": {},
   "source": [
    "\n",
    "**3. Calibrate your science data.**\n",
    "- For all science images, calibrate your raw science exposure $\\sf E_{light}$ into the number of photons recorded in each pixel $\\sf N_{light}$ [$\\sf e^-$] using the calibration equation $$\\sf N_{light} = \\left(g\\cdot(E_{light} - E_{bias, median}) - \\dot{N}_{dark}\\cdot t_{light}\\right)/I_{flat-field}$$ where $\\sf g$ is the gain [$\\sf e^-/ADU$] and $\\sf t_{light}$ is the exposure time of the light frame being calibrated [$\\sf s$]. If you took all your science images in the same filter, you can use the same reference calibration images for all of them. Display these $\\sf N_{light}$  images with informative color scales/limits.\n",
    "\n",
    "\n"
   ]
  },
  {
   "cell_type": "markdown",
   "id": "1ca6776e",
   "metadata": {},
   "source": [
    "\n",
    "- For all science images, calculate the predicted uncertainty on the number of photons recorded in each pixel $\\sf \\sigma_{N_{light}}$ using the noise equation $$\\sf \\sigma_{N_{light}} = \\left(\\sqrt{N_{light} + \\dot{N}_{dark}\\cdot t_{light} + \\sigma_{RN,e^-}^2}\\right)/I_{flat-field}$$ where the quadrature sum includes $\\sf N_{light}$ as the Poisson noise from light in the image, $\\sf \\dot{N}_{dark}\\cdot t_{light}$ as the Poisson noise from dark current, and $\\sf \\sigma_{RN,e^-}^2$ as the read-noise in electron units. Display these $\\sf \\sigma_{N_{light}}$ images with informative color scales/limits."
   ]
  },
  {
   "cell_type": "markdown",
   "id": "ec374dc6",
   "metadata": {},
   "source": [
    "\n",
    "**4. Do photometry.**\n",
    "- For each of your target 10pc stars, use the calibrated science images and aperture photometry to measure the total number of photons received from the star $\\sf F$ = \"fluence\" = $\\sf F = \\sum N_{astronomical} = \\sum (N_{light} - N_{sky})$ and the uncertainty on the fluence $\\sf \\sigma_{F}$ (which should be calculated automatically if you supply $\\sf \\sigma_{N_{light}}$ to the `photutils` photometry tools `error=` keyword argument). Assemble a table of measurements including the following columns \n",
    "\n",
    "| Star Name |  $\\sf F$  | $\\sf \\sigma_{F}$ | S/N = $\\sf F/\\sigma_{F}$ | $\\sf t$ = exposure time | $\\sf X$ = airmass | weather | \n",
    "|-|-|-|-|-|-|-|\n",
    "| (the name of the star) | (the fluence = the total number of photons from the star) | (the uncertainty on the fluence = how much you would expect the number of photons measured to change in repeat observations) | (the signal-to-noise ratio = how strongly you detect the object) | (the time is required to compare brightnesses across images with different exposure times) | (the airmass will help approximately correct extinction through Earth's clear atmosphere) | (were there clouds overhead that we should be aware of when interpreting this measurement?) |\n",
    "|...|...|...|...|...|...|...|\n",
    "\n"
   ]
  },
  {
   "cell_type": "markdown",
   "id": "f9f9e8ba",
   "metadata": {},
   "source": [
    "\n",
    "- Discuss how many stars you actually photometrically measured to S/N>100. What went right or what went wrong with your observing? (You are being graded on process and reflection here; you can still get full credit for this lab even if *none* of your stars meet S/N>100).\n"
   ]
  },
  {
   "cell_type": "markdown",
   "id": "aa1e81ea",
   "metadata": {},
   "source": [
    "\n",
    "**5. Convert to magnitudes.**\n",
    "\n",
    "To translate photons detected at your telescope into astronomical magnitudes, you need to correct for (a) the sensitivity of the telescope/filter/camera and (b) the transparency of Earth's atmosphere. Starting from the fluence $\\sf F$ [$\\sf e^-$] of your object and the exposure time $\\sf t$ [$\\sf s$] of your observation, the magnitude can be calculated with either of the following two equations\n",
    "$$\\sf m_{\\lambda} = -2.5\\cdot log_{10}\\left(\\frac{F_{\\lambda} /t}{\\dot{F}_{\\lambda, Vega}}\\right) - k_\\lambda \\cdot X$$\n",
    "$$\\sf m_{\\lambda} = m_{\\lambda, zeropoint} -2.5\\cdot log_{10}\\left(\\frac{F_{\\lambda} /t}{1~e^-/s}\\right) - k_\\lambda \\cdot X$$\n",
    "where the sensitivity of your telescope is expressed with either $\\sf \\dot{F}_{\\lambda, Vega}$ [$\\sf e^-/s$] as the rate at which photons would get recorded from Vega or $\\sf m_{\\lambda, zeropoint}$ as the magnitude of an object from which you would record $\\sf 1 e^-/s$, and the transparency of the atmosphere is expressed by the extinction coefficient $\\sf k_\\lambda$ [$\\sf mag/airmass$] and the airmass $\\sf X = 1/cos(\\theta_{zenith})$ at which you observed. The $\\sf \\lambda$ subscripts throughout these equations indicate quantities that depend on filter being used; the table below provides estimates for these quantities on each of the telescopes."
   ]
  },
  {
   "cell_type": "markdown",
   "id": "87e1b338-0b7d-446f-a501-172e4682b068",
   "metadata": {},
   "source": [
    "|  Telescope   | Filter                 | $\\dot{F}_{\\lambda, Vega}$ | ${m}_{\\lambda, zeropoint}$ | ${k}_{\\lambda}$ |\n",
    "|:------------------:|:---------------:|:----------------:|:-------------:|:-------------:|\n",
    "|  Artemis/Apollo    | UV/IR Cut       | $\\sf 2.35\\times10^9 ~^{photon}/_s$ | $23.43$| $\\sf 0.17 ~^{mag}/_{airmass}$|\n",
    "|  Artemis/Apollo    | g'              | $\\sf 1.55\\times10^9 ~^{photon}/_s$ | $22.97$| $\\sf 0.21 ~^{mag}/_{airmass}$|\n",
    "|  Artemis/Apollo    | r'              | $\\sf 6.15\\times10^8 ~^{photon}/_s$ | $21.97$| $\\sf 0.13 ~^{mag}/_{airmass}$|\n",
    "|  Artemis/Apollo    | i'              | $\\sf 1.91\\times10^8 ~^{photon}/_s$ | $20.71$| $\\sf 0.15 ~^{mag}/_{airmass}$|\n",
    "|  Artemis/Apollo    | Skyglow         | $\\sf 5.06\\times10^8 ~^{photon}/_s$ | $21.76$| $\\sf 0.15 ~^{mag}/_{airmass}$|\n",
    "|  Artemis/Apollo    | $\\sf H_\\alpha$  | $\\sf 1.04\\times10^7 ~^{photon}/_s$ | $17.54$| $\\sf 0.11 ~^{mag}/_{airmass}$|\n",
    "|  Artemis/Apollo    | $\\sf H_\\beta$   | $\\sf 3.44\\times10^7 ~^{photon}/_s$ | $18.84$| $\\sf 0.19 ~^{mag}/_{airmass}$|\n",
    "|  Artemis/Apollo    | \\[OIII]         | $\\sf 4.24\\times10^7 ~^{photon}/_s$ | $19.07$| $\\sf 0.18 ~^{mag}/_{airmass}$|\n",
    "|  Artemis/Apollo    | \\[SII]          | $\\sf 1.49\\times10^7 ~^{photon}/_s$ | $17.93$| $\\sf 0.08 ~^{mag}/_{airmass}$|\n",
    "|\n",
    "|  Leto       | UV/IR Cut       | $\\sf 3.36\\times10^9 ~^{photon}/_s$ | $23.82$| $\\sf 0.17 ~^{mag}/_{airmass}$|\n",
    "|  Leto       | g'              | $\\sf 2.49\\times10^9 ~^{photon}/_s$ | $23.49$| $\\sf 0.21 ~^{mag}/_{airmass}$|\n",
    "|  Leto       | r'              | $\\sf 8.41\\times10^8 ~^{photon}/_s$ | $22.31$| $\\sf 0.13 ~^{mag}/_{airmass}$|\n",
    "|  Leto       | i'              | $\\sf 2.53\\times10^8 ~^{photon}/_s$ | $21.01$| $\\sf 0.15 ~^{mag}/_{airmass}$|\n",
    "|  Leto       | $H_\\alpha$      | $\\sf 2.57\\times10^7 ~^{photon}/_s$ | $18.52$| $\\sf 0.11 ~^{mag}/_{airmass}$|\n"
   ]
  },
  {
   "cell_type": "markdown",
   "id": "50266393-c8f6-44f3-a54f-a2a24e0d165f",
   "metadata": {},
   "source": [
    "To translate uncertainties on your measurements into uncertainties on magnitudes $\\sf \\sigma_{m_\\lambda}$, you previously (Homework3) used propagation of errors to show that $$\\sf \\sigma_{m_\\lambda} = (2.5 log_{10} e) \\cdot \\frac{\\sigma_F}{F} = 1.086\\frac{\\sigma_F}{F}$$\n",
    "\n",
    "- Calculate magnitudes $\\sf m_\\lambda$ and magnitude uncertainties $\\sf \\sigma_{m_\\lambda}$ for all your 10pc star photometric measurements. \n",
    "\n",
    "- Discuss, qualitatively, whether your magnitudes make sense."
   ]
  },
  {
   "cell_type": "markdown",
   "id": "d4f4007d",
   "metadata": {},
   "source": [
    "\n",
    "**6. Make your own H-R diagram.**\n",
    "- Make a Hertzsprung-Russell(HR) diagram using all the archival measurements from the original `stars-at-10pc.csv` table. For color on the $\\sf x$-axis, use Gaia `BP` - `RP`. For absolute magnitude $\\sf M$ on the $\\sf y$-axis, use the Gaia `G` apparent magnitude. You can calculate a more precise absolute magnitude using the exact distance to the star, or simply assume everything is close to 10pc away. Make sure magnitude increases downward along the $\\sf y$-axis, with brighter stars at the top.\n",
    "- Plot your own measurements on top of these archival ones, using a contrasting color. Still use the archival `BP` - `RP` for color along the $\\sf x$-axis, but replace `G` with your measured magnitudes for the $\\sf y$-axis. Expect your magnitudes to differ from the Gaia `G` magnitudes because (among other reasons) you observed in a different filter. \n"
   ]
  },
  {
   "cell_type": "markdown",
   "id": "208d3712-aef6-457a-87fe-1237a653a81f",
   "metadata": {},
   "source": [
    "# HR diagram of Star data"
   ]
  },
  {
   "cell_type": "code",
   "execution_count": 42,
   "id": "2569fda7-5474-4c1c-b88b-1e9c34965e7e",
   "metadata": {},
   "outputs": [],
   "source": [
    "from astropy.io import fits\n",
    "import numpy as np\n",
    "from glob import glob\n",
    "import matplotlib.pyplot as plt\n",
    "from astropy.io import ascii"
   ]
  },
  {
   "cell_type": "code",
   "execution_count": 70,
   "id": "074527e3-9041-462c-b306-0f7a3c465112",
   "metadata": {},
   "outputs": [],
   "source": [
    "import pandas as pd # Cell to read in all the data\n",
    "\n",
    "file_path = \"/home/hornstei/astr3510/stars-at-10pc/\"  \n",
    "stars = ascii.read(file_path + 'stars-at-10pc.csv')"
   ]
  },
  {
   "cell_type": "code",
   "execution_count": 71,
   "id": "ceb9ad04-b4f2-4bc0-93c4-7390ad2cc735",
   "metadata": {
    "collapsed": true,
    "jupyter": {
     "outputs_hidden": true
    },
    "tags": []
   },
   "outputs": [
    {
     "data": {
      "text/html": [
       "<div><i>Table length=191</i>\n",
       "<table id=\"table140015298322384\" class=\"table-striped table-bordered table-condensed\">\n",
       "<thead><tr><th>silly_name</th><th>ra</th><th>dec</th><th>G</th><th>BP</th><th>RP</th><th>g</th><th>r</th><th>i</th><th>z</th><th>J</th><th>H</th><th>Ks</th><th>W1</th><th>W2</th><th>W3</th><th>W4</th><th>distance</th><th>GaiaEDR3</th><th>names</th></tr></thead>\n",
       "<thead><tr><th>str11</th><th>str11</th><th>str12</th><th>float64</th><th>float64</th><th>float64</th><th>float64</th><th>float64</th><th>float64</th><th>float64</th><th>float64</th><th>float64</th><th>float64</th><th>float64</th><th>float64</th><th>float64</th><th>float64</th><th>float64</th><th>int64</th><th>str1015</th></tr></thead>\n",
       "<tr><td>Abigale</td><td>00h11m29.0s</td><td>+59d08m12.0s</td><td>13.47</td><td>15.9</td><td>12.08</td><td>16.28</td><td>14.94</td><td>13.63</td><td>12.52</td><td>9.95</td><td>9.39</td><td>9.09</td><td>9.78</td><td>9.58</td><td>8.43</td><td>8.1</td><td>9.31</td><td>423027104407576576</td><td>GAT 1367, TIC 452882423, LSR J0011+5908, PM J00115+5908, LSPM J0011+5908, Karmn J00115+591, 2MASS J00113182+5908400, USNO-B1.0 1491-00005115, WISEA J001130.57+590827.5, Gaia DR3 423027104407576576, Gaia DR2 423027104407576576</td></tr>\n",
       "<tr><td>Aliyah</td><td>00h12m13.6s</td><td>+50d25m07.6s</td><td>14.24</td><td>14.47</td><td>13.84</td><td>14.52</td><td>14.27</td><td>14.2</td><td>14.21</td><td>13.49</td><td>13.25</td><td>13.19</td><td>13.68</td><td>13.73</td><td>12.37</td><td>9.39</td><td>10.87</td><td>395234439752169344</td><td>GJ 1004, USNO 487, EGGR 381, G 217-37, NLTT 574, LHS 1038, PLX 27.01, WD 0009+50, WD 0009+501, TIC 201892746, PM J00122+5025, LSPM J0012+5025, PSO J003.0591+50.4206, 2MASS J00121479+5025213, USNO-B1.0 1404-00005972, WISEA J001214.23+502514.7, Gaia DR2 395234439752169344, Gaia DR3 395234439752169344</td></tr>\n",
       "<tr><td>Evangelina</td><td>00h32m36.6s</td><td>+67d13m57.8s</td><td>11.11</td><td>12.52</td><td>9.9</td><td>12.96</td><td>12.1</td><td>11.75</td><td>nan</td><td>7.17</td><td>6.54</td><td>6.38</td><td>nan</td><td>nan</td><td>nan</td><td>nan</td><td>9.96</td><td>527956488339113600</td><td>LFT 48, Zkh 11, LHS 115, GJ 22 B, NLTT 1708, ADS 433 B, LTT 10179, ** VYS 2B, ADS 440 B, BD+66 34B, [RHG95] 93, ASCC 67257, CSI+66 34 3, TIC 420470815, TYC 4027-802-1, WDS J00321+6715B, LSPM J0032+6714S, PMSC 00263+6642B, IDS 00263+6642 B, CCDM J00325+6714B, 2MASS J00322979+6714043, Gaia DR2 527956488339113600, Gaia DR3 527956488339113600</td></tr>\n",
       "<tr><td>Destin</td><td>00h32m36.7s</td><td>+67d14m00.9s</td><td>9.57</td><td>10.73</td><td>8.42</td><td>nan</td><td>nan</td><td>nan</td><td>nan</td><td>nan</td><td>nan</td><td>nan</td><td>nan</td><td>nan</td><td>nan</td><td>nan</td><td>9.89</td><td>527956488340229632</td><td>LFT 47, Zkh 12, Zkh 10, GJ 22 C, GJ 22 A, LHS 114, ** MCY 1, ** VYS 2A, BD+66 34A, NLTT 1707, LTT 10178, [RHG95] 92, ADS 433 AC, ADS 440 AC, V* V547 Cas, TIC 608170820, TIC 420470817, TYC 4027-803-1, PM J00324+6714, LSPM J0032+6714N, PMSC 00263+6642A, WDS J00321+6715A, UCAC4 787-000993, IDS 00263+6642 A, CCDM J00325+6714A, PMSC 00263+6642Aab, WDS J00321+6715Aa,Ab, 2MASS J00322970+6714080, WISEA J003232.53+671404.5, Gaia DR2 527956488339113472, Gaia DR3 527956488340229632</td></tr>\n",
       "<tr><td>Lexie</td><td>00h41m25.2s</td><td>-22d21m11.4s</td><td>14.3</td><td>14.66</td><td>13.75</td><td>14.76</td><td>14.29</td><td>14.11</td><td>14.06</td><td>13.34</td><td>13.48</td><td>13.74</td><td>14.06</td><td>14.17</td><td>11.93</td><td>9.06</td><td>9.1</td><td>2349916559152267008</td><td>LFT 65, G 66-57, LTT 375, GJ 2012, L 651-57, EGGR 246, G 268-27, LHS 1126, LEHPM 889, NLTT 2258, G 266-157, LEHPM 891, WD 0038-22, LP 825-669, PLX 120.11, WD 0038-226, TIC 27986571, PM 00390-2237, GEN# +9.80266157, uvby98 980266157, BPS CS 29527-0054, PSO J010.3568-22.3518, GALEX J004125.8-222103, 2MASS J00412604-2221020, SDSS J004125.80-222104.9, WISEA J004125.67-222106.3, Gaia DR2 2349916559152267008, Gaia DR3 2349916559152267008</td></tr>\n",
       "<tr><td>Lauretta</td><td>00h43m25.0s</td><td>-41d17m47.9s</td><td>11.56</td><td>13.25</td><td>10.3</td><td>13.39</td><td>12.4</td><td>10.68</td><td>10.04</td><td>8.57</td><td>8.03</td><td>7.71</td><td>nan</td><td>nan</td><td>nan</td><td>nan</td><td>10.24</td><td>4999067471248893952</td><td>LFT 69, LTT 400, GJ 3049, L 363-38, LHS 1134, NLTT 2382, LP 989-140, [RHG95] 134, PM 00411-4134, TIC 118585685, PM J00434-4117, UCAC4 244-000745, RAVE J004326.0-411734, 2MASS J00432603-4117337, WISEA J004325.53-411740.2, Gaia DR2 4999067471248893952, Gaia DR3 4999067471248893952</td></tr>\n",
       "<tr><td>Ardeth</td><td>01h01m21.3s</td><td>+61d21m37.3s</td><td>9.85</td><td>11.08</td><td>8.74</td><td>nan</td><td>nan</td><td>nan</td><td>nan</td><td>7.27</td><td>6.71</td><td>6.48</td><td>7.82</td><td>7.05</td><td>nan</td><td>nan</td><td>10.53</td><td>426641955043723520</td><td>GJ 47, LFT 90, Wolf 44, PLX 201, WEB 907, LHS 1176, GCRV 576, Ci 20 65, G 243-50, BSD 8-976, LTT 10356, NLTT 3322, PLX 201.00, ASCC 105358, [I81] M 722, [RHG95] 193, p. Pulk 8-S1, CSI+61-00582, TIC 256316623, PM J01013+6121, TYC 4017-558-1, GSC 04017-00558, LSPM J0101+6121, Karmn J01013+613, 1RXS J010116.7+612202, USNO-B1.0 1513-00035516, MSX5C G124.1181-01.4821, 2MASS J01012006+6121560, WISEA J010120.55+612148.4, Gaia DR2 426641955043723520, Gaia DR3 426641955043723520</td></tr>\n",
       "<tr><td>Berta</td><td>01h02m41.4s</td><td>+62d20m44.3s</td><td>8.67</td><td>9.79</td><td>7.62</td><td>nan</td><td>nan</td><td>nan</td><td>nan</td><td>6.23</td><td>5.58</td><td>5.37</td><td>7.07</td><td>6.14</td><td>5.18</td><td>5.09</td><td>9.76</td><td>522863309964987520</td><td>MCC 2, GJ 49, Zkh 20, LFT 94, WEB 944, Wolf 46, PLX 204, VVO 303, UBV 959, G 244-7, HIP 4872, JP11 226, HIC 4872, LHS 1179, G 243-52, Ci 20 68, GCRV 585, [GS83] 67, IRCO 2654, BD+61 195, LTT 10363, NLTT 3392, UBV M 4482, ** WNO 51A, BSD 8-1525, ASCC 105461, [RHG95] 199, TIC 256419669, PM J01026+6220, LSPM J0102+6220, IRAS 00594+6204, TYC 4021-1115-1, UCAC4 762-010009, Karmn J01026+623, WDS J01026+6221A, GEN# +0.06100195A, USNO-B1.0 1523-00040382, 2MASS J01023895+6220422, WISEA J010239.92+622043.1, Gaia DR2 522863309964987520, Gaia DR1 522863305661202688, Gaia DR3 522863309964987520</td></tr>\n",
       "<tr><td>Maximillian</td><td>01h03m22.3s</td><td>+62d21m57.9s</td><td>11.93</td><td>13.9</td><td>10.59</td><td>14.3</td><td>13.31</td><td>11.29</td><td>10.97</td><td>8.61</td><td>8.01</td><td>7.72</td><td>7.77</td><td>7.38</td><td>nan</td><td>nan</td><td>9.86</td><td>522864272041351296</td><td>GJ 51, Zkh 21, LFT 95, Wolf 47, UBV 981, PLX 205, LHS 1183, Ci 20 70, G 243-55, G 244-10, LTT 10364, JP11 5105, NLTT 3445, [GKL99] 34, BD+61 195B, ** WNO 51B, PLX 205.00, EM* GGA 11, UBV M 42919, V* V388 Cas, [KW97] 4-38, [RHG95] 204, CSI+62-01001, TIC 52183206, PM J01033+6221, EUVE J0103+62.3, LSPM J0103+6221, RX J0103.2+6221, WDS J01026+6221B, Karmn J01033+623, GEN# +9.80243055, GEN# +6.10010051, GEN# +0.06100195B, 1RXS J010318.0+622146, USNO-B1.0 1523-00040804, 2MASS J01031971+6221557, WISEA J010320.94+622156.8, Gaia DR2 522864272037653504, Gaia DR3 522864272041351296</td></tr>\n",
       "<tr><td>Amairani</td><td>01h04m56.0s</td><td>-18d07m17.0s</td><td>12.7</td><td>14.78</td><td>11.36</td><td>nan</td><td>nan</td><td>11.98</td><td>nan</td><td>9.39</td><td>8.75</td><td>8.45</td><td>10.05</td><td>9.85</td><td>7.87</td><td>7.59</td><td>9.78</td><td>2358022227591374336</td><td>Zkh 22, LHS 134, EGM 589, GJ 1028, USNO 492, NLTT 3576, G 268-110, LEHPM 1206, PLX 215.03, [RHG95] 210, TIC 268633473, PM 01024-1824, TIC 471016687, PM J01048-1807, UCAC3 144-2810, GSC 05851-00785, UCAC4 360-001321, Karmn J01048-181, GSC2.3 S0R9003498, 2MASS J01045368-1807292, USNO-B1.0 0718-00012586, WISEA J010454.77-180723.3, Gaia DR2 2358022227591374336, Gaia DR3 2358022227591374336</td></tr>\n",
       "<tr><td>...</td><td>...</td><td>...</td><td>...</td><td>...</td><td>...</td><td>...</td><td>...</td><td>...</td><td>...</td><td>...</td><td>...</td><td>...</td><td>...</td><td>...</td><td>...</td><td>...</td><td>...</td><td>...</td><td>...</td></tr>\n",
       "<tr><td>Alberta</td><td>20h50m16.8s</td><td>-34d24m49.7s</td><td>12.05</td><td>13.94</td><td>10.75</td><td>14.12</td><td>13.06</td><td>11.17</td><td>10.41</td><td>8.82</td><td>8.27</td><td>8.0</td><td>7.95</td><td>7.64</td><td>7.48</td><td>7.42</td><td>9.6</td><td>6779821003058453120</td><td>TIC 89257479, PM J20502-3424, UCAC4 278-227158, 2MASS J20501615-3424424, WISEA J205016.44-342445.7, Gaia DR3 6779821003058453120, Gaia DR2 6779821003058453120</td></tr>\n",
       "<tr><td>Amare</td><td>21h26m26.9s</td><td>-65d21m39.2s</td><td>4.09</td><td>4.35</td><td>3.64</td><td>nan</td><td>nan</td><td>nan</td><td>nan</td><td>3.34</td><td>2.99</td><td>2.97</td><td>nan</td><td>nan</td><td>nan</td><td>nan</td><td>9.26</td><td>6401464693867773568</td><td>GJ 827, Zkh 318, LPM 780, HR 8181, FK5 805, LHS 3674, ROT 3116, N30 4724, LTT 8510, GC 29979, LFT 1630, PLX 5152, UBV 18453, TD1 28016, HD 203608, NSV 13689, JP11 3344, WEB 19198, * gam Pav, CSV 102086, SKY# 40867, SAO 254999, PPM 365174, Ci 20 1280, NLTT 51220, GCRV 13468, CD-65 2751, HIP 105858, HIC 105858, PLX 5152.00, UBV M 25659, CPC 21 4903, CPD-65 3918, TIC 265488188, PM 21223-6536, TYC 9111-1423-1, IRAS 21223-6535, GEN# +1.00203608, uvby98 100203608, IRAS F21223-6535, 2MASS J21262662-6521578, WISE J212626.99-652149.2, WISEA J212626.64-652156.8, Gaia DR3 6401464693867773568, AKARI-IRC-V1 J2126267-652152, Gaia DR2 6401464693866921472</td></tr>\n",
       "<tr><td>Glinda</td><td>22h01m13.8s</td><td>+28d18m25.9s</td><td>10.63</td><td>12.27</td><td>9.4</td><td>15.39</td><td>13.28</td><td>11.82</td><td>10.0</td><td>7.63</td><td>7.04</td><td>6.78</td><td>9.15</td><td>9.62</td><td>nan</td><td>nan</td><td>9.1</td><td>1893189736896880640</td><td>GJ 4247, USNO 904, G 188-38, NLTT 52699, HIP 108706, HIC 108706, PLX 5316.11, ASCC 731743, [GKL99] 415, V* V374 Peg, [RHG95] 3453, TIC 283410775, 2RE J2201+281, UCAC2 41808669, PM J22012+2818, LSPM J2201+2818, TYC 2215-1629-1, GSC 02215-01629, Karmn J22012+283, UCAC4 592-131564, 2RE J220111+281849, 1RXS J220112.9+281832, USNO-B1.0 1183-00608620, 2MASS J22011310+2818248, WISEA J220113.43+281825.3, Gaia DR2 1893189736896880640, Gaia DR3 1893189736896880640</td></tr>\n",
       "<tr><td>Jaceon</td><td>22h02m09.6s</td><td>+01d23m54.2s</td><td>8.4</td><td>9.39</td><td>7.42</td><td>10.34</td><td>8.61</td><td>7.83</td><td>7.81</td><td>6.2</td><td>5.56</td><td>5.32</td><td>6.97</td><td>5.75</td><td>5.14</td><td>5.06</td><td>10.58</td><td>2683023811628007296</td><td>GJ 846, G 27-5, VVO 73, G 93-66, G 26-44, DO 7683, G 18-16, MCC 335, Zkh 327, LFT 1678, LHS 3745, PLX 5318, WEB 19569, HD 209290, UBV 18818, LTT 16435, Wolf 1340, Ci 20 1331, PPM 172573, BD+00 4810, HIC 108782, HIP 108782, NLTT 52725, AG+01 2676, GCRV 13839, UBV M 26062, PLX 5318.00, [RHG95] 3458, ASCC 1175435, [HFE83] 1478, PM 21596+0110, TIC 292987389, PM J22021+0124, TYC 558-1540-1, LSPM J2202+0124, IRAS 21596+0109, UCAC4 458-125308, Karmn J22021+014, GEN# +1.00209290, USNO-B1.0 0914-00554481, 2MASS J22021026+0124006, WISEA J220209.96+012358.0, Gaia DR2 2683023811628007296, Gaia DR1 2683023807333389952, Gaia DR3 2683023811628007296</td></tr>\n",
       "<tr><td>Yessenia</td><td>22h13m44.3s</td><td>-17d41m16.0s</td><td>12.07</td><td>13.88</td><td>10.79</td><td>14.24</td><td>13.06</td><td>11.34</td><td>10.67</td><td>8.96</td><td>8.42</td><td>8.12</td><td>nan</td><td>nan</td><td>7.61</td><td>7.35</td><td>10.24</td><td>6825822095663585536</td><td>GJ 1265, L 788-37, LFT 1695, LHS 3776, LTT 8915, USNO 572, LP 819-52, NLTT 53236, GCRV 26200, PLX 5375.01, [RHG95] 3489, EPIC 205913009, PM J22137-1741, GEN# +9.85819052, Karmn J22137-176, UCAC4 362-200754, 2MASS J22134277-1741081, WISEA J221343.49-174111.9, Gaia DR2 6825822095663585536, Gaia DR3 6825822095663585536</td></tr>\n",
       "<tr><td>Tobi</td><td>22h28m53.8s</td><td>-13d25m44.4s</td><td>14.54</td><td>17.46</td><td>13.09</td><td>17.84</td><td>16.45</td><td>13.89</td><td>12.76</td><td>10.77</td><td>10.22</td><td>9.84</td><td>10.26</td><td>10.04</td><td>9.23</td><td>8.32</td><td>10.89</td><td>2601148128510120576</td><td>GJ 4281, LHS 523, LP 760-3, USNO 905, NLTT 53958, [GKL99] 426, PLX 5431.01, [RHG95] 3539, EPIC 206050032, 2MASS J22285440-1325178, WISEA J222854.11-132530.5, Gaia DR3 2601148128510120576, Gaia DR2 2601148128510120576</td></tr>\n",
       "<tr><td>Ariya</td><td>22h56m23.0s</td><td>-60d04m11.7s</td><td>12.3</td><td>14.25</td><td>10.99</td><td>14.4</td><td>13.35</td><td>11.4</td><td>10.63</td><td>8.98</td><td>8.36</td><td>8.11</td><td>9.92</td><td>9.45</td><td>7.56</td><td>7.34</td><td>10.38</td><td>6491249026683800832</td><td>Zkh 341, GJ 1277, LHS 532, LTT 9281, L 167-14, LFT 1750, GCRV 26204, NLTT 55304, LEHPM 5315, [RHG95] 3613, PM 22534-6018, TIC 237314211, PM J22564-6003, 2MASS J22562466-6003490, WISEA J225623.94-600359.0, Gaia DR2 6491249026683800832, Gaia DR3 6491249026683800832</td></tr>\n",
       "<tr><td>Noah</td><td>23h21m36.6s</td><td>+17d16m52.4s</td><td>10.36</td><td>11.94</td><td>9.13</td><td>12.49</td><td>11.31</td><td>9.64</td><td>9.62</td><td>7.39</td><td>6.77</td><td>6.51</td><td>nan</td><td>nan</td><td>6.17</td><td>6.05</td><td>10.6</td><td>2817999068780218368</td><td>G 68-8, GJ 4333, LHS 543, LFT 1785, USNO 577, L 1295-31, LP 462-27, LTT 16862, PLX 5652.0, NLTT 56616, HIC 115332, HIP 115332, ASCC 911153, UBV M 42771, PLX 5652.01, [RHG95] 3686, PM 23192+1702, TIC 435198528, UCAC2 38002533, PM J23216+1717, TYC 1713-313-1, LSPM J2321+1717, Karmn J23216+172, GEN# +9.80068008, USNO-B1.0 1072-00715059, 2MASS J23213752+1717284, WISEA J232137.05+171710.9, Gaia DR2 2817999068780218368, Gaia DR3 2817999068780218368</td></tr>\n",
       "<tr><td>Sahana</td><td>23h52m27.4s</td><td>+75d32m41.0s</td><td>6.05</td><td>6.58</td><td>5.36</td><td>nan</td><td>nan</td><td>nan</td><td>nan</td><td>4.88</td><td>4.29</td><td>4.15</td><td>5.24</td><td>4.27</td><td>nan</td><td>nan</td><td>10.9</td><td>2232348941893483520</td><td>2E 4782, HR 9038, GJ 909 A, G 242-42, PLX 5772, SBC7 968, GC 33120, HD 223778, WEB 20714, LTT 17038, SAO 10879, SBC9 1459, UBV 20491, PPM 11788, ** BU 996A, HIC 117712, SKY# 45052, NLTT 58239, HIP 117712, GCRV 14940, BD+74 1047, AG+75 1020, ASCC 65907, UBV M 27301, ADS 17062 A, RE J2352+753, CSI+74 1047 1, [CJ92] SA 2 8, 2RE J2352+753, TIC 265344685, 2E 2349.8+7516, TYC 4602-552-1, EUVE J2352+75.5, GSC 04602-00552, LSPM J2352+7532, IRAS 23500+7516, GEN# +1.00223778, uvby98 100223778, IDS 23474+7500 A, WDS J23524+7533A, PMSC 23475+7459A, RE J235216+753204, CCDM J23526+7532A, 2RE J235223+753220, PMSC 23475+7459Aab, 1RXS J235222.1+753242, 2MASS J23522534+7532403, USNO-B1.0 1655-00122084, Gaia DR3 2232348941893483520, AKARI-IRC-V1 J2352262+753240, Gaia DR2 2232348941892509184</td></tr>\n",
       "<tr><td>Marcelo</td><td>23h53m51.7s</td><td>-75d38m06.2s</td><td>9.01</td><td>10.25</td><td>7.9</td><td>10.37</td><td>9.42</td><td>9.31</td><td>7.77</td><td>6.45</td><td>5.78</td><td>5.55</td><td>6.51</td><td>5.88</td><td>nan</td><td>nan</td><td>10.12</td><td>6377828354964753792</td><td>L 26-27, LTT 9759, HD 223889, NLTT 58294, CD-76 1182, HIC 117828, HIP 117828, PPM 375856, CPD-76 1619, TIC 402104884, PM J23538-7537, UCAC3 29-94034, TYC 9477-617-1, IRAS 23509-7555, UCAC4 072-041858, PPMX J235350.1-753757, DENIS J235349.8-753756, USNO-B1.0 0143-00210138, 2MASS J23535017-7537575, WISEA J235350.77-753800.5, Gaia DR3 6377828354964753792, Gaia DR2 6377828354964753792, Gaia DR1 6377828350668342272</td></tr>\n",
       "</table></div>"
      ],
      "text/plain": [
       "<Table length=191>\n",
       " silly_name ...\n",
       "   str11    ...\n",
       "----------- ...\n",
       "    Abigale ...\n",
       "     Aliyah ...\n",
       " Evangelina ...\n",
       "     Destin ...\n",
       "      Lexie ...\n",
       "   Lauretta ...\n",
       "     Ardeth ...\n",
       "      Berta ...\n",
       "Maximillian ...\n",
       "   Amairani ...\n",
       "        ... ...\n",
       "    Alberta ...\n",
       "      Amare ...\n",
       "     Glinda ...\n",
       "     Jaceon ...\n",
       "   Yessenia ...\n",
       "       Tobi ...\n",
       "      Ariya ...\n",
       "       Noah ...\n",
       "     Sahana ...\n",
       "    Marcelo ..."
      ]
     },
     "execution_count": 71,
     "metadata": {},
     "output_type": "execute_result"
    }
   ],
   "source": [
    "stars"
   ]
  },
  {
   "cell_type": "code",
   "execution_count": 51,
   "id": "eacfc6c4-f90f-4395-a864-47be0216dddd",
   "metadata": {},
   "outputs": [],
   "source": [
    "BP = [stars[i][4] for i in range(len(stars))]\n",
    "RP = [stars[i][5] for i in range(len(stars))]\n",
    "BP_RP = [bp - rp for bp, rp in zip(BP, RP)]"
   ]
  },
  {
   "cell_type": "code",
   "execution_count": 40,
   "id": "90704d57-1cc5-4c31-a59c-830324b7f42c",
   "metadata": {},
   "outputs": [],
   "source": [
    "G = [stars[i][3] for i in range(len(stars))]"
   ]
  },
  {
   "cell_type": "code",
   "execution_count": 69,
   "id": "d8b1a684-4999-4b9f-a639-6ed2923c7891",
   "metadata": {},
   "outputs": [
    {
     "data": {
      "image/png": "[encoded data removed]",
      "text/plain": [
       "<Figure size 1000x800 with 1 Axes>"
      ]
     },
     "metadata": {},
     "output_type": "display_data"
    }
   ],
   "source": [
    "plt.figure(figsize=(10, 8))\n",
    "plt.scatter((BP_RP), G, c='red', marker='.', edgecolor='k')\n",
    "plt.gca().invert_yaxis()\n",
    "plt.xlabel('BP - RP (Color Index)')\n",
    "plt.ylabel('Absolute Magnitude (M)')\n",
    "plt.title('Hertzsprung-Russell Diagram')\n",
    "plt.grid(True)\n",
    "plt.show()"
   ]
  },
  {
   "cell_type": "markdown",
   "id": "623a6883",
   "metadata": {},
   "source": [
    "\n",
    "- Discuss what you notice. Do your measurements make sense? Are there types of stars you observed most? Are there types you missed? "
   ]
  },
  {
   "cell_type": "markdown",
   "id": "77c2ad36",
   "metadata": {},
   "source": [
    "\n",
    "**7. Submit.**\n",
    "Please plan to submit:\n",
    "- a digital copy of your observing log\n",
    "- a `.csv` table containing with one row for each star and columns for \n",
    "    - star name \n",
    "    - magnitude $\\sf m_\\lambda$\n",
    "    - magnitude uncertainty $\\sf \\sigma_{m_\\lambda}$\n",
    "    - filter used\n",
    "- this lab notebook document"
   ]
  },
  {
   "cell_type": "markdown",
   "id": "c4a3f670",
   "metadata": {},
   "source": [
    "*Run all the cells in your notebook from start to finish. Save your lab as an HTML file, which will embed any images and plots in a way they can be viewed in any brower (and Canvas). Have one member of your group submit it to Canvas. Each group member must individually submit the Lab Collaboration Statement on Canvas for this lab.*"
   ]
  }
 ],
 "metadata": {
  "kernelspec": {
   "display_name": "Python 3 (ipykernel)",
   "language": "python",
   "name": "python3"
  },
  "language_info": {
   "codemirror_mode": {
    "name": "ipython",
    "version": 3
   },
   "file_extension": ".py",
   "mimetype": "text/x-python",
   "name": "python",
   "nbconvert_exporter": "python",
   "pygments_lexer": "ipython3",
   "version": "3.9.15"
  }
 },
 "nbformat": 4,
 "nbformat_minor": 5
}
